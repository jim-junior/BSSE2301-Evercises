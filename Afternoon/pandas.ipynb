{
 "cells": [
  {
   "cell_type": "markdown",
   "id": "c157cef8-de46-4a60-8363-ab114e70b02a",
   "metadata": {},
   "source": [
    "# Pandas\n",
    "Pandas is a python library used for data analysis\n",
    "- Pandas Series\n",
    "- Pandas Dataframes\n",
    "- Read CSV\n",
    "- Read JSON\n",
    "- Cleaning of Data"
   ]
  },
  {
   "cell_type": "code",
   "execution_count": 1,
   "id": "5f5b7fc0-6bcd-43f4-a5ff-568d39e37d3c",
   "metadata": {},
   "outputs": [
    {
     "name": "stdout",
     "output_type": "stream",
     "text": [
      "Requirement already satisfied: pandas in c:\\users\\hp\\appdata\\local\\programs\\python\\python311\\lib\\site-packages (2.2.2)\n",
      "Requirement already satisfied: numpy>=1.23.2 in c:\\users\\hp\\appdata\\local\\programs\\python\\python311\\lib\\site-packages (from pandas) (2.0.0)\n",
      "Requirement already satisfied: python-dateutil>=2.8.2 in c:\\users\\hp\\appdata\\roaming\\python\\python311\\site-packages (from pandas) (2.9.0.post0)\n",
      "Requirement already satisfied: pytz>=2020.1 in c:\\users\\hp\\appdata\\local\\programs\\python\\python311\\lib\\site-packages (from pandas) (2024.1)\n",
      "Requirement already satisfied: tzdata>=2022.7 in c:\\users\\hp\\appdata\\local\\programs\\python\\python311\\lib\\site-packages (from pandas) (2024.1)\n",
      "Requirement already satisfied: six>=1.5 in c:\\users\\hp\\appdata\\roaming\\python\\python311\\site-packages (from python-dateutil>=2.8.2->pandas) (1.16.0)\n",
      "Note: you may need to restart the kernel to use updated packages.\n"
     ]
    }
   ],
   "source": [
    "%pip install pandas --upgrade"
   ]
  },
  {
   "cell_type": "code",
   "execution_count": 2,
   "id": "7d29b8d8-3223-4c90-9e76-1bf666f69486",
   "metadata": {},
   "outputs": [],
   "source": [
    "import pandas as pd"
   ]
  },
  {
   "cell_type": "markdown",
   "id": "87ad4c72-beac-42cc-a7bf-341526958ed4",
   "metadata": {},
   "source": [
    "## Pandas Seris\n",
    "It is a one dimemsional Array that holds data of any type"
   ]
  },
  {
   "cell_type": "code",
   "execution_count": 3,
   "id": "af4e5afa-b769-47b4-8cb6-e4e6a756bb31",
   "metadata": {},
   "outputs": [
    {
     "name": "stdout",
     "output_type": "stream",
     "text": [
      "0    10\n",
      "1    20\n",
      "2    30\n",
      "dtype: int64\n"
     ]
    }
   ],
   "source": [
    "import pandas as pd\n",
    "\n",
    "z = [ 10, 20, 30]\n",
    "\n",
    "myint = pd.Series(z)\n",
    "print(myint)"
   ]
  },
  {
   "cell_type": "code",
   "execution_count": 4,
   "id": "f88dc004-360e-4644-ae61-643f086db8b0",
   "metadata": {},
   "outputs": [
    {
     "name": "stdout",
     "output_type": "stream",
     "text": [
      "0       8\n",
      "1       2\n",
      "2       7\n",
      "3       4\n",
      "4       5\n",
      "5      56\n",
      "6       3\n",
      "7     221\n",
      "8      34\n",
      "9       5\n",
      "10    544\n",
      "11      3\n",
      "dtype: int64\n"
     ]
    }
   ],
   "source": [
    "import pandas as pd\n",
    "\n",
    "m  = [8,2,7,4,5,56,3,221,34,5,544,3]\n",
    "\n",
    "index = range(len(m))\n",
    "\n",
    "pdarr = pd.Series(m, index)\n",
    "print(pdarr)"
   ]
  },
  {
   "cell_type": "markdown",
   "id": "ed041b8d-58a8-4879-b3ce-725d13f35155",
   "metadata": {},
   "source": [
    "## DataFrames\n",
    "### Multidimessional"
   ]
  },
  {
   "cell_type": "code",
   "execution_count": 5,
   "id": "07491b3a-a639-44ce-a517-5a40a7310b53",
   "metadata": {},
   "outputs": [
    {
     "name": "stdout",
     "output_type": "stream",
     "text": [
      "   Labels Values\n",
      "0    Name    Jim\n",
      "1  Course   BSSE\n"
     ]
    }
   ],
   "source": [
    "import pandas as pd\n",
    "\n",
    "data = {\n",
    "    \"Labels\": [\"Name\", \"Course\"],\n",
    "    \"Values\": [\"Jim\", \"BSSE\"]\n",
    "}\n",
    "\n",
    "df = pd.DataFrame(data)\n",
    "print(df)\n"
   ]
  },
  {
   "cell_type": "code",
   "execution_count": 6,
   "id": "a918c47f-7d0f-4eef-8ee3-5e7935786a30",
   "metadata": {},
   "outputs": [
    {
     "data": {
      "text/plain": [
       "'Name'"
      ]
     },
     "execution_count": 6,
     "metadata": {},
     "output_type": "execute_result"
    }
   ],
   "source": [
    "import pandas as pd\n",
    "\n",
    "data = {\n",
    "    \"Labels\": [\"Name\", \"Course\"],\n",
    "    \"Values\": [\"Jim\", \"BSSE\"]\n",
    "}\n",
    "\n",
    "df = pd.DataFrame(data)\n",
    "df.at[0, \"Labels\"]"
   ]
  },
  {
   "cell_type": "code",
   "execution_count": null,
   "id": "31b1ef91-b568-4170-9368-76221e41157b",
   "metadata": {},
   "outputs": [],
   "source": []
  }
 ],
 "metadata": {
  "kernelspec": {
   "display_name": "Python 3 (ipykernel)",
   "language": "python",
   "name": "python3"
  },
  "language_info": {
   "codemirror_mode": {
    "name": "ipython",
    "version": 3
   },
   "file_extension": ".py",
   "mimetype": "text/x-python",
   "name": "python",
   "nbconvert_exporter": "python",
   "pygments_lexer": "ipython3",
   "version": "3.11.4"
  }
 },
 "nbformat": 4,
 "nbformat_minor": 5
}
