{
 "cells": [
  {
   "cell_type": "markdown",
   "id": "9fa1874c-8245-47dc-8301-875d25ca8483",
   "metadata": {},
   "source": [
    "# Data Science in Python\n",
    "\n",
    "- Data Science focuses on Extracting knowledege from data\n",
    "- Machine Learning focuses on algorithms that learn from data\n",
    "- Data Analysis focuses on reporting\n",
    "\n",
    "\n",
    "## Applications of Data Science\n",
    "- Analysing Climate data to predict future climate parterns\n",
    "- Used In health"
   ]
  },
  {
   "cell_type": "code",
   "execution_count": 13,
   "id": "38c15523-322b-4269-85e1-b2e889ff6ffa",
   "metadata": {},
   "outputs": [],
   "source": [
    "# Step 1: Import the necessary libraries\n",
    "\n",
    "import numpy as np\n",
    "import pandas as pd\n",
    "import matplotlib.pyplot as plt\n",
    "import seaborn as sns\n",
    "\n"
   ]
  },
  {
   "cell_type": "code",
   "execution_count": 14,
   "id": "24494f39",
   "metadata": {},
   "outputs": [
    {
     "name": "stdout",
     "output_type": "stream",
     "text": [
      "   number_siblings                   name     sex  age living_allowance  \\\n",
      "0                1     Nakasujja Gertrude  female   33              NaN   \n",
      "1                3  Arinda Asiimwe Atweta  female   23           50,000   \n",
      "2                4    Ndjekornom Victoire    male   23            25000   \n",
      "3                0         KATURAMU EDGAR    male   27           500000   \n",
      "4                4      Abinsinguza Lasse    male   24           100000   \n",
      "\n",
      "                  Are_you_a  How_many_time_do_eat_food  Unnamed: 7  \\\n",
      "0            Data Scientist                          2         NaN   \n",
      "1  Machine Learning Enginer                          1         NaN   \n",
      "2            Data Scientist                          1         NaN   \n",
      "3  Machine Learning Enginer                          2         NaN   \n",
      "4            Data Scientist                          2         NaN   \n",
      "\n",
      "   do_you_have_aboyfriend/girlfriend  \n",
      "0                                  1  \n",
      "1                                  1  \n",
      "2                                  0  \n",
      "3                                  0  \n",
      "4                                  1  \n"
     ]
    }
   ],
   "source": [
    "# Step 2: Load the dataset\n",
    "\n",
    "df = pd.read_csv(\"data/niceguys.csv\")\n",
    "\n",
    "# Display the first 5 rows of the dataset\n",
    "\n",
    "print(df.head(5))"
   ]
  },
  {
   "cell_type": "code",
   "execution_count": 15,
   "id": "f88bdbf9",
   "metadata": {},
   "outputs": [
    {
     "name": "stdout",
     "output_type": "stream",
     "text": [
      "number_siblings                       0\n",
      "name                                  0\n",
      "sex                                   0\n",
      "age                                   0\n",
      "living_allowance                      6\n",
      "Are_you_a                             0\n",
      "How_many_time_do_eat_food             0\n",
      "Unnamed: 7                           35\n",
      "do_you_have_aboyfriend/girlfriend     0\n",
      "dtype: int64\n"
     ]
    }
   ],
   "source": [
    "# Step 3: Data cleaning and preprocessing\n",
    "\n",
    "# Check for missing values in the dataset\n",
    "\n",
    "print(df.isnull().sum())"
   ]
  },
  {
   "cell_type": "code",
   "execution_count": 18,
   "id": "48272962",
   "metadata": {},
   "outputs": [],
   "source": [
    "# Drop Row where living allowance has value of 1,000,000 and 50,000\n",
    "\n",
    "for i in range(len(df)):\n",
    "    if df.loc[i, 'living_allowance'] == 1000000 or df.loc[i, 'living_allowance'] == 50000:\n",
    "        pass"
   ]
  },
  {
   "cell_type": "code",
   "execution_count": 20,
   "id": "2d1b88bc",
   "metadata": {},
   "outputs": [
    {
     "name": "stdout",
     "output_type": "stream",
     "text": [
      "    number_siblings                  name     sex  age living_allowance  \\\n",
      "0                 1    Nakasujja Gertrude  female   33              NaN   \n",
      "9                 9           Otim Ronald    male   25              NaN   \n",
      "13                3       MULINDWA YUSUF     male   22              NaN   \n",
      "24                0      Ssentongo Henry     male   27              NaN   \n",
      "27                1         AMADILE MAJID    male   23              NaN   \n",
      "33                8  Olowo Omondi Philly     male   23              NaN   \n",
      "\n",
      "                   Are_you_a  How_many_time_do_eat_food  Unnamed: 7  \\\n",
      "0             Data Scientist                          2         NaN   \n",
      "9             Data Scientist                          2         NaN   \n",
      "13            Data Scientist                          3         NaN   \n",
      "24  Machine Learning Enginer                          1         NaN   \n",
      "27              Data Analyst                          2         NaN   \n",
      "33            Data Scientist                          2         NaN   \n",
      "\n",
      "    do_you_have_aboyfriend/girlfriend  \n",
      "0                                   1  \n",
      "9                                   0  \n",
      "13                                  0  \n",
      "24                                  0  \n",
      "27                                  0  \n",
      "33                                  1  \n"
     ]
    }
   ],
   "source": [
    "print(df)"
   ]
  },
  {
   "cell_type": "code",
   "execution_count": null,
   "id": "a87ec6d2",
   "metadata": {},
   "outputs": [],
   "source": [
    "# Step 4: EDA Exploratory Data Analysis\n",
    "\n",
    "# Distribution of students with age and whether they have girlfriends or boyfriends\n",
    "# Gender who have girlfriends or boyfriends\n",
    "# Do you eat, gender, age and gf and bf\n",
    "# Living Allowances and gf and bf\n",
    "# Career and gf\n",
    "# Siblings and gf\n",
    "# Colorreation Heatmap, correlation matrix and plot the heatmap\n",
    "# Decision making or insights of data and do data analysis conclusion\n",
    "\n",
    "# 1: Age and gf or bf\n",
    "# 2: Gender and gf or bf\n",
    "# 3: Correlation analysis"
   ]
  }
 ],
 "metadata": {
  "kernelspec": {
   "display_name": "Python 3 (ipykernel)",
   "language": "python",
   "name": "python3"
  },
  "language_info": {
   "codemirror_mode": {
    "name": "ipython",
    "version": 3
   },
   "file_extension": ".py",
   "mimetype": "text/x-python",
   "name": "python",
   "nbconvert_exporter": "python",
   "pygments_lexer": "ipython3",
   "version": "3.11.4"
  }
 },
 "nbformat": 4,
 "nbformat_minor": 5
}
