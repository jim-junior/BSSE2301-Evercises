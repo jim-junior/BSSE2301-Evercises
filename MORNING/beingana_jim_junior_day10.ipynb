{
 "cells": [
  {
   "cell_type": "markdown",
   "metadata": {},
   "source": [
    "# Machine Learning\n",
    "\n",
    "# Split data into three categories\n",
    "\n",
    "- Numerical \n",
    "- Categorical\n",
    "- Ordinal\n"
   ]
  },
  {
   "cell_type": "code",
   "execution_count": null,
   "metadata": {},
   "outputs": [],
   "source": [
    "# Exercise: Plot a polynomial Regression\n",
    "\n",
    "x = [1,2,3,4,5,6,7,8,9,10,12,13,14,15,16,17,18,19,20,21,22]\n",
    "y = [100,]"
   ]
  },
  {
   "cell_type": "markdown",
   "metadata": {},
   "source": [
    "Decision tree\n",
    "confusion matrix\n",
    "logistic regression\n",
    "random forest\n",
    "SVM (Support vector machine )\n",
    "KNN\n",
    "AUC \n",
    "ROC\n",
    "K-Mean"
   ]
  }
 ],
 "metadata": {
  "kernelspec": {
   "display_name": "Python 3",
   "language": "python",
   "name": "python3"
  },
  "language_info": {
   "name": "python",
   "version": "3.11.4"
  }
 },
 "nbformat": 4,
 "nbformat_minor": 2
}
