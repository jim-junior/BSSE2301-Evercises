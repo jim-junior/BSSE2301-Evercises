{
 "cells": [
  {
   "cell_type": "markdown",
   "metadata": {},
   "source": [
    "# Machine learning\n",
    "\n",
    "- Types of machine supervised Learning\n",
    "- Unsuperivised Learning\n",
    "- Reinforcement Learning"
   ]
  },
  {
   "cell_type": "markdown",
   "metadata": {},
   "source": [
    "\n",
    "## Data processing \n",
    "\n",
    "### Data cleaning\n",
    "\n",
    "**Steps for checking** \n",
    "- 1.Duplicates ,wrong format,wrong data ,empty cell, missing data\n",
    "- handling missing data,remove/delete,inputation mean/median/mode "
   ]
  },
  {
   "cell_type": "markdown",
   "metadata": {},
   "source": [
    "## Exploratory Data Analysis\n",
    "\n",
    "### steps\n",
    "- descriptive statistics \n",
    "\n",
    "- Measure of Central Tendency , mean, median ,mode.\n",
    "\n",
    "- **Measure of Speed** : range ,variance, standard deviation , iterquartile range\n",
    "\n",
    "- Skewness, kurtosis\n",
    "\n",
    "- **Data Visualisation** . histogram distrubution of a single variable ,boxplots-identifying outliers,scatter plots.examining relationships between two variables\n",
    "\n",
    "- scatter plot , examining relations between two variables\n",
    "\n",
    "- heatmaps , visualing correlation matrics\n",
    "\n",
    "\n"
   ]
  },
  {
   "cell_type": "markdown",
   "metadata": {},
   "source": [
    "## Tools for data vislisation\n",
    "- matplolib, line ,bar,sscatter  and histogram\n",
    "- seaborn, themes, color,palettes,looks more attractive\n",
    "- plotly ,Bokeh"
   ]
  },
  {
   "cell_type": "markdown",
   "metadata": {},
   "source": [
    "## Feature Engineering \n",
    "- Selection , Filter like chi-square,ANOVA,,\n",
    "- Wrapper recursive features\n",
    "- Embeded , lasso regression \n",
    "\n",
    "## Feature scaling and Normalisation\n",
    "\n",
    "- Normalisation Rescale to a range , (age, 20-28)\n",
    "- Standard deviation , trandform std,\n",
    "\n",
    "- create new features , polynomals , interaction\n",
    "\n"
   ]
  },
  {
   "cell_type": "markdown",
   "metadata": {},
   "source": [
    "\n",
    "## Data Spliting \n",
    "- Training and evaluation of a model\n",
    "- Most common ratios, 20(testing ) - 80(training), or 30-70\n",
    "- import  `sckit-learn` helps split `train_test_split`\n"
   ]
  },
  {
   "cell_type": "markdown",
   "metadata": {},
   "source": [
    "\n",
    "## Random state is used to shuffle data before splitting it into a training and test set \n",
    "\n",
    "- cross validation - evaluate the performance of the data ,mulple folds\n",
    "- Types are , train/test we can use K-fold cross validation\n",
    "\n",
    "- Stratified k-fold,Ensure our distrubtion of the target  variable , particulary used in the inbalance datasets\n",
    "\n",
    "- Cross validation helps in reducing variance in model performance  estimates\n",
    "\n",
    "- provides a comprehensive evaluation of model performance"
   ]
  },
  {
   "cell_type": "markdown",
   "metadata": {},
   "source": [
    "\n",
    "## Supervised Learning Algorithm\n",
    "\n",
    "### 1.Regression \n",
    "-  linear, polynomial\n",
    "\n",
    "### 2.Classification \n",
    "- logistic Regression , k-nearest Neighour(KNN), Support Vector Machine (SVM), Decision Trees and Random forest\n",
    "\n",
    "Model evaluation\n",
    "\n",
    "Metrics /:Accuarcy, Precision , Recall, F1-Score\n",
    "\n",
    "Confusion Matrix\n",
    "\n",
    "AUC and ROC  Area Under the Curve, Receier Operating Characteristics Curve"
   ]
  },
  {
   "cell_type": "markdown",
   "metadata": {},
   "source": [
    "\n",
    "# Summary \n",
    "- labelled data , Predict output for newinputs, commin task, Classification and Regression\n",
    "- summary Unsupervised learning \n",
    "- Unlabeled , find hidden patterns or structures in data, common task like , clustering , Dimension\n",
    "\n",
    "\n",
    "Definition\n",
    "\n",
    "- Supervised learning : learns from labeled data to predict outputs for new inputs\n",
    "- unsupervised learning : learns from unlabeled data to identify patterns and structures in data"
   ]
  }
 ],
 "metadata": {
  "language_info": {
   "name": "python"
  }
 },
 "nbformat": 4,
 "nbformat_minor": 2
}
